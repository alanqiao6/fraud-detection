{
 "cells": [
  {
   "cell_type": "code",
   "execution_count": 1,
   "id": "57588e80-ac3d-436b-8eb3-bf42b242f5c5",
   "metadata": {},
   "outputs": [],
   "source": [
    "import pandas as pd"
   ]
  },
  {
   "cell_type": "code",
   "execution_count": 2,
   "id": "ac2b9137-e576-48da-ac00-abbb7c1a7e68",
   "metadata": {},
   "outputs": [],
   "source": [
    "df = pd.read_csv(\"users_with_shipments.csv\")"
   ]
  },
  {
   "cell_type": "code",
   "execution_count": 4,
   "id": "585c3691-daf5-440e-85be-be10535086a6",
   "metadata": {},
   "outputs": [],
   "source": [
    "df['fraud_type'] = df['fraud_type'].fillna(\"No\")"
   ]
  },
  {
   "cell_type": "code",
   "execution_count": 5,
   "id": "213e5171-2e42-4500-b113-13c1df57c373",
   "metadata": {},
   "outputs": [
    {
     "name": "stdout",
     "output_type": "stream",
     "text": [
      "               uuid username                   email locale  is_fraud  \\\n",
      "0  g97cqc4ukrvkk5y3   user_0  moorenancy@example.net     US      True   \n",
      "1  qxxawo07v3p68jnu   user_1        aray@example.net     US     False   \n",
      "2  qxxawo07v3p68jnu   user_1        aray@example.net     US     False   \n",
      "3  qxxawo07v3p68jnu   user_1        aray@example.net     US     False   \n",
      "4  qxxawo07v3p68jnu   user_1        aray@example.net     US     False   \n",
      "\n",
      "  fraud_type ship_date ship_time            shipFrom_addressLine  \\\n",
      "0         UA    7/4/25  13:24:37              78777 Haas Viaduct   \n",
      "1         No    7/3/25  23:01:46  57822 Pacheco Branch Suite 591   \n",
      "2         No   6/22/25  19:40:01  57822 Pacheco Branch Suite 591   \n",
      "3         No    7/5/25  12:37:29  57822 Pacheco Branch Suite 591   \n",
      "4         No   6/29/25   6:07:18  57822 Pacheco Branch Suite 591   \n",
      "\n",
      "    shipFrom_city shipFrom_stateCode  shipFrom_postalCode  \\\n",
      "0  North Lisaview                 IN                87599   \n",
      "1     Lake Donald                 PA                36373   \n",
      "2     Lake Donald                 PA                36373   \n",
      "3     Lake Donald                 PA                36373   \n",
      "4     Lake Donald                 PA                36373   \n",
      "\n",
      "  shipFrom_countryCode             shipTo_addressLine         shipTo_city  \\\n",
      "0                   US             456 Brendan Street        Kennethmouth   \n",
      "1                   US  67205 Paul Mountain Suite 455             Roseton   \n",
      "2                   US                9180 Lutz Track     New Juanborough   \n",
      "3                   US             23683 Kevin Knolls  North Rebeccamouth   \n",
      "4                   US       2633 Erin Coves Apt. 105       Frenchborough   \n",
      "\n",
      "  shipTo_stateCode  shipTo_postalCode shipTo_countryCode  \\\n",
      "0               ND              95128                 US   \n",
      "1               OH              99837                 US   \n",
      "2               PR              21723                 US   \n",
      "3               MT              46053                 US   \n",
      "4               AL              73146                 US   \n",
      "\n",
      "   payment_accountNumber             payment_addressLine  \n",
      "0           4.263650e+12              78777 Haas Viaduct  \n",
      "1           4.637340e+12  57822 Pacheco Branch Suite 591  \n",
      "2           4.637340e+12  57822 Pacheco Branch Suite 591  \n",
      "3           4.637340e+12  57822 Pacheco Branch Suite 591  \n",
      "4           4.637340e+12  57822 Pacheco Branch Suite 591  \n",
      "<class 'pandas.core.frame.DataFrame'>\n",
      "RangeIndex: 80049 entries, 0 to 80048\n",
      "Data columns (total 20 columns):\n",
      " #   Column                 Non-Null Count  Dtype  \n",
      "---  ------                 --------------  -----  \n",
      " 0   uuid                   80049 non-null  object \n",
      " 1   username               80049 non-null  object \n",
      " 2   email                  80049 non-null  object \n",
      " 3   locale                 80049 non-null  object \n",
      " 4   is_fraud               80049 non-null  bool   \n",
      " 5   fraud_type             80049 non-null  object \n",
      " 6   ship_date              80049 non-null  object \n",
      " 7   ship_time              80049 non-null  object \n",
      " 8   shipFrom_addressLine   80049 non-null  object \n",
      " 9   shipFrom_city          80049 non-null  object \n",
      " 10  shipFrom_stateCode     80049 non-null  object \n",
      " 11  shipFrom_postalCode    80049 non-null  int64  \n",
      " 12  shipFrom_countryCode   80049 non-null  object \n",
      " 13  shipTo_addressLine     80049 non-null  object \n",
      " 14  shipTo_city            80049 non-null  object \n",
      " 15  shipTo_stateCode       80049 non-null  object \n",
      " 16  shipTo_postalCode      80049 non-null  int64  \n",
      " 17  shipTo_countryCode     80049 non-null  object \n",
      " 18  payment_accountNumber  80049 non-null  float64\n",
      " 19  payment_addressLine    80049 non-null  object \n",
      "dtypes: bool(1), float64(1), int64(2), object(16)\n",
      "memory usage: 11.7+ MB\n",
      "None\n",
      "fraud_type\n",
      "No    76092\n",
      "CC     1423\n",
      "UA     1273\n",
      "PF     1261\n",
      "Name: count, dtype: int64\n"
     ]
    }
   ],
   "source": [
    "print(df.head())\n",
    "print(df.info())\n",
    "print(df['fraud_type'].value_counts())"
   ]
  },
  {
   "cell_type": "code",
   "execution_count": null,
   "id": "2127da7b-75ec-446e-ac10-bea78c03f75c",
   "metadata": {},
   "outputs": [],
   "source": []
  }
 ],
 "metadata": {
  "kernelspec": {
   "display_name": "Python 3 (ipykernel)",
   "language": "python",
   "name": "python3"
  },
  "language_info": {
   "codemirror_mode": {
    "name": "ipython",
    "version": 3
   },
   "file_extension": ".py",
   "mimetype": "text/x-python",
   "name": "python",
   "nbconvert_exporter": "python",
   "pygments_lexer": "ipython3",
   "version": "3.11.7"
  }
 },
 "nbformat": 4,
 "nbformat_minor": 5
}
